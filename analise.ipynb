{
 "cells": [
  {
   "cell_type": "code",
   "execution_count": null,
   "id": "290c5cea",
   "metadata": {},
   "outputs": [
    {
     "name": "stdout",
     "output_type": "stream",
     "text": [
      "   ID        Data        Cliente         Produto    Categoria  Quantidade  \\\n",
      "0   1  2025-04-01      Ana Souza  Fone de Ouvido  Eletrônicos           2   \n",
      "1   2  2025-04-01    Carlos Lima   Camiseta Polo    Vestuário           1   \n",
      "2   3  2025-04-02   Marcos Silva        Notebook  Eletrônicos           1   \n",
      "3   4  2025-04-03  Juliana Alves           Mouse  Eletrônicos           3   \n",
      "4   5  2025-04-03  Lucas Pereira         Chinelo    Vestuário           2   \n",
      "\n",
      "   Preço_Unitário   Total       Cidade  \n",
      "0            99.9   199.8     Teresina  \n",
      "1            59.9    59.9  Campo Maior  \n",
      "2          3299.0  3299.0     Parnaíba  \n",
      "3            49.9   149.7     Teresina  \n",
      "4            29.9    59.8  Campo Maior  \n"
     ]
    }
   ],
   "source": [
    "import pandas as pd  \n",
    "\n",
    "\n",
    "df = pd.read_csv(\"Arquiv.csv\")\n",
    "\n",
    "print(df.head())\n"
   ]
  }
 ],
 "metadata": {
  "kernelspec": {
   "display_name": "Python 3",
   "language": "python",
   "name": "python3"
  },
  "language_info": {
   "codemirror_mode": {
    "name": "ipython",
    "version": 3
   },
   "file_extension": ".py",
   "mimetype": "text/x-python",
   "name": "python",
   "nbconvert_exporter": "python",
   "pygments_lexer": "ipython3",
   "version": "3.12.10"
  }
 },
 "nbformat": 4,
 "nbformat_minor": 5
}
